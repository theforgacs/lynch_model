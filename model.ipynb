{
 "cells": [
  {
   "cell_type": "code",
   "execution_count": 7,
   "metadata": {},
   "outputs": [],
   "source": [
    "import eikon as ek\n",
    "import pandas as pd\n",
    "import matplotlib.pyplot as plt\n",
    "%matplotlib inline"
   ]
  },
  {
   "cell_type": "code",
   "execution_count": 18,
   "metadata": {},
   "outputs": [],
   "source": [
    "ek.set_app_key('b499c15480534749a47879878c132348412d0c30')"
   ]
  },
  {
   "cell_type": "markdown",
   "metadata": {},
   "source": [
    "get symbols from spx"
   ]
  },
  {
   "cell_type": "code",
   "execution_count": 9,
   "metadata": {},
   "outputs": [],
   "source": [
    "data, _ = pd.read_html(\n",
    "    'https://en.wikipedia.org/wiki/List_of_S%26P_500_companies')"
   ]
  },
  {
   "cell_type": "code",
   "execution_count": 28,
   "metadata": {
    "scrolled": false
   },
   "outputs": [
    {
     "data": {
      "text/plain": [
       "['MMM', 'ABT', 'ABBV', 'ABMD', 'ACN', 'ATVI', 'ADBE', 'AMD', 'AAP', 'AES']"
      ]
     },
     "execution_count": 28,
     "metadata": {},
     "output_type": "execute_result"
    }
   ],
   "source": [
    "symbols = data['Symbol'].tolist()\n",
    "symbols[:10]"
   ]
  },
  {
   "cell_type": "markdown",
   "metadata": {},
   "source": [
    "the symbols come in the <span style=\"color:red\">'ticker'</span> form, need to convert them to <span style=\"color:red\">'RIC'</span>"
   ]
  },
  {
   "cell_type": "code",
   "execution_count": 83,
   "metadata": {
    "scrolled": true
   },
   "outputs": [
    {
     "data": {
      "text/html": [
       "<div>\n",
       "<style scoped>\n",
       "    .dataframe tbody tr th:only-of-type {\n",
       "        vertical-align: middle;\n",
       "    }\n",
       "\n",
       "    .dataframe tbody tr th {\n",
       "        vertical-align: top;\n",
       "    }\n",
       "\n",
       "    .dataframe thead th {\n",
       "        text-align: right;\n",
       "    }\n",
       "</style>\n",
       "<table border=\"1\" class=\"dataframe\">\n",
       "  <thead>\n",
       "    <tr style=\"text-align: right;\">\n",
       "      <th></th>\n",
       "      <th>error</th>\n",
       "    </tr>\n",
       "  </thead>\n",
       "  <tbody>\n",
       "    <tr>\n",
       "      <th>AAPL</th>\n",
       "      <td>No best match available</td>\n",
       "    </tr>\n",
       "  </tbody>\n",
       "</table>\n",
       "</div>"
      ],
      "text/plain": [
       "                        error\n",
       "AAPL  No best match available"
      ]
     },
     "execution_count": 83,
     "metadata": {},
     "output_type": "execute_result"
    }
   ],
   "source": [
    "ek.symbology.get_symbology(symbol='AAPL', from_symbol_type='ticker', to_symbol_type='RIC')"
   ]
  },
  {
   "cell_type": "code",
   "execution_count": 82,
   "metadata": {},
   "outputs": [
    {
     "data": {
      "text/html": [
       "<div>\n",
       "<style scoped>\n",
       "    .dataframe tbody tr th:only-of-type {\n",
       "        vertical-align: middle;\n",
       "    }\n",
       "\n",
       "    .dataframe tbody tr th {\n",
       "        vertical-align: top;\n",
       "    }\n",
       "\n",
       "    .dataframe thead th {\n",
       "        text-align: right;\n",
       "    }\n",
       "</style>\n",
       "<table border=\"1\" class=\"dataframe\">\n",
       "  <thead>\n",
       "    <tr style=\"text-align: right;\">\n",
       "      <th></th>\n",
       "      <th>RIC</th>\n",
       "    </tr>\n",
       "  </thead>\n",
       "  <tbody>\n",
       "    <tr>\n",
       "      <th>US0378331005</th>\n",
       "      <td>AAPL.O</td>\n",
       "    </tr>\n",
       "  </tbody>\n",
       "</table>\n",
       "</div>"
      ],
      "text/plain": [
       "                 RIC\n",
       "US0378331005  AAPL.O"
      ]
     },
     "execution_count": 82,
     "metadata": {},
     "output_type": "execute_result"
    }
   ],
   "source": [
    "ek.symbology.get_symbology(['US0378331005'], from_symbol_type='ISIN', to_symbol_type='RIC')"
   ]
  },
  {
   "cell_type": "markdown",
   "metadata": {},
   "source": [
    "as seen above, for some reason, got to do it in two steps\n",
    "\n",
    "<span style=\"color:red\">'ticker'</span> -> <span style=\"color:red\">'ISIN'</span> -> <span style=\"color:red\">'RICS'</span>"
   ]
  },
  {
   "cell_type": "code",
   "execution_count": 189,
   "metadata": {},
   "outputs": [],
   "source": [
    "def to_rics(symbols: list) -> list: \n",
    "    for i in symbols:\n",
    "        try:\n",
    "            i = ek.symbology.get_symbology(i, from_symbol_type='ticker', to_symbol_type='ISIN').values.tolist()\n",
    "            i = ek.symbology.get_symbology(i, from_symbol_type='ISIN', to_symbol_type='RIC' ).values.tolist()\n",
    "            rics.append(i)\n",
    "        except Exception as e:\n",
    "            print(e)\n",
    "    return rics"
   ]
  },
  {
   "cell_type": "code",
   "execution_count": null,
   "metadata": {},
   "outputs": [],
   "source": [
    "def to_cusip(symbols: list) -> list:\n",
    "    "
   ]
  },
  {
   "cell_type": "code",
   "execution_count": 132,
   "metadata": {
    "scrolled": true
   },
   "outputs": [
    {
     "data": {
      "text/html": [
       "<div>\n",
       "<style scoped>\n",
       "    .dataframe tbody tr th:only-of-type {\n",
       "        vertical-align: middle;\n",
       "    }\n",
       "\n",
       "    .dataframe tbody tr th {\n",
       "        vertical-align: top;\n",
       "    }\n",
       "\n",
       "    .dataframe thead th {\n",
       "        text-align: right;\n",
       "    }\n",
       "</style>\n",
       "<table border=\"1\" class=\"dataframe\">\n",
       "  <thead>\n",
       "    <tr style=\"text-align: right;\">\n",
       "      <th></th>\n",
       "      <th>CUSIP</th>\n",
       "      <th>ticker</th>\n",
       "    </tr>\n",
       "  </thead>\n",
       "  <tbody>\n",
       "    <tr>\n",
       "      <th>ZBRA</th>\n",
       "      <td>989207105</td>\n",
       "      <td>ZBRA</td>\n",
       "    </tr>\n",
       "  </tbody>\n",
       "</table>\n",
       "</div>"
      ],
      "text/plain": [
       "          CUSIP ticker\n",
       "ZBRA  989207105   ZBRA"
      ]
     },
     "execution_count": 132,
     "metadata": {},
     "output_type": "execute_result"
    }
   ],
   "source": [
    "ek.symbology.get_symbology('ZBRA', from_symbol_type='ticker')"
   ]
  },
  {
   "cell_type": "code",
   "execution_count": 153,
   "metadata": {
    "scrolled": true
   },
   "outputs": [],
   "source": [
    "i = ek.symbology.get_symbology(symbols, from_symbol_type='ticker', to_symbol_type='ISIN')"
   ]
  },
  {
   "cell_type": "code",
   "execution_count": 245,
   "metadata": {},
   "outputs": [
    {
     "data": {
      "text/plain": [
       "MMM     US88579Y1010\n",
       "ABT     US0028241000\n",
       "ABBV    US00287Y1091\n",
       "ABMD    US0036541003\n",
       "ACN     IE00B4BNMY34\n",
       "            ...     \n",
       "XYL     US98419M1009\n",
       "YUM     US9884981013\n",
       "ZBH     US98956P1021\n",
       "ZION    US9897011071\n",
       "ZTS     US98978V1035\n",
       "Name: ISIN, Length: 408, dtype: object"
      ]
     },
     "execution_count": 245,
     "metadata": {},
     "output_type": "execute_result"
    }
   ],
   "source": [
    "i['ISIN'].dropna()"
   ]
  },
  {
   "cell_type": "code",
   "execution_count": 201,
   "metadata": {},
   "outputs": [],
   "source": [
    "err = [j[0] for j in i.reset_index().values if not type(j[1]) is str]"
   ]
  },
  {
   "cell_type": "code",
   "execution_count": 204,
   "metadata": {
    "scrolled": true
   },
   "outputs": [
    {
     "data": {
      "text/plain": [
       "array(['AMD', 'ALB', 'ARE', 'ALL', 'AMCR', 'AAL', 'ADI', 'ANTM', 'AON',\n",
       "       'APA', 'AMAT', 'APTV', 'ANET', 'ADP', 'BIIB', 'BA', 'BWA', 'AVGO',\n",
       "       'BR', 'COG', 'CARR', 'CDW', 'CERN', 'CF', 'CI', 'CINF', 'CME',\n",
       "       'COP', 'COST', 'CSX', 'DE', 'XRAY', 'FANG', 'DISH', 'DLTR', 'DOW',\n",
       "       'EA', 'EVRG', 'ES', 'RE', 'EXC', 'FB', 'FAST', 'FOXA', 'FOX',\n",
       "       'BEN', 'GRMN', 'IT', 'GL', 'HAS', 'PEAK', 'INFO', 'INTU', 'ISRG',\n",
       "       'IPGP', 'SJM', 'JNPR', 'KEYS', 'KR', 'LB', 'MRO', 'MAR', 'MA',\n",
       "       'MSFT', 'MNST', 'MCO', 'MS', 'MYL', 'NWL', 'NWSA', 'NWS', 'NI',\n",
       "       'NBL', 'NTRS', 'ORCL', 'PCAR', 'PH', 'PEP', 'PM', 'PFG', 'PG',\n",
       "       'REG', 'ROL', 'ROST', 'SPGI', 'SBAC', 'SLB', 'STX', 'SO', 'SNPS',\n",
       "       'TXN', 'TSCO', 'VIAC', 'WBA', 'WELL', 'WST', 'ZBRA'], dtype='<U4')"
      ]
     },
     "execution_count": 204,
     "metadata": {},
     "output_type": "execute_result"
    }
   ],
   "source": [
    "np.array(err)  # np.array to save space"
   ]
  },
  {
   "cell_type": "markdown",
   "metadata": {},
   "source": [
    "___"
   ]
  },
  {
   "cell_type": "markdown",
   "metadata": {},
   "source": [
    "ok this is lil complicated coz even though you can get pe for all the instruments and then get earninigs\n",
    "from current price, yet different instruments need to be inputted in different ways  "
   ]
  },
  {
   "cell_type": "markdown",
   "metadata": {},
   "source": [
    "for example, ABBV is ABBV.K at Eikon, can only be converted to OAPermID"
   ]
  },
  {
   "cell_type": "code",
   "execution_count": 260,
   "metadata": {},
   "outputs": [
    {
     "data": {
      "text/html": [
       "<div>\n",
       "<style scoped>\n",
       "    .dataframe tbody tr th:only-of-type {\n",
       "        vertical-align: middle;\n",
       "    }\n",
       "\n",
       "    .dataframe tbody tr th {\n",
       "        vertical-align: top;\n",
       "    }\n",
       "\n",
       "    .dataframe thead th {\n",
       "        text-align: right;\n",
       "    }\n",
       "</style>\n",
       "<table border=\"1\" class=\"dataframe\">\n",
       "  <thead>\n",
       "    <tr style=\"text-align: right;\">\n",
       "      <th></th>\n",
       "      <th>OAPermID</th>\n",
       "    </tr>\n",
       "  </thead>\n",
       "  <tbody>\n",
       "    <tr>\n",
       "      <th>ABBV</th>\n",
       "      <td>5037613143</td>\n",
       "    </tr>\n",
       "  </tbody>\n",
       "</table>\n",
       "</div>"
      ],
      "text/plain": [
       "        OAPermID\n",
       "ABBV  5037613143"
      ]
     },
     "execution_count": 260,
     "metadata": {},
     "output_type": "execute_result"
    }
   ],
   "source": [
    "ek.symbology.get_symbology('ABBV')"
   ]
  },
  {
   "cell_type": "code",
   "execution_count": 261,
   "metadata": {},
   "outputs": [
    {
     "data": {
      "text/plain": [
       "(  Instrument  EARNINGS  Price Close  P/E (Daily Time Series Ratio)\n",
       " 0       ABBV       NaN          NaN                            NaN,\n",
       " [{'code': 251658243,\n",
       "   'col': 1,\n",
       "   'message': \"'The record could not be found' for the instrument 'ABBV'\",\n",
       "   'row': 0},\n",
       "  {'code': 416,\n",
       "   'col': 2,\n",
       "   'message': \"Unable to collect data for the field 'TR.PriceClose' and some specific identifier(s).\",\n",
       "   'row': 0},\n",
       "  {'code': 416,\n",
       "   'col': 3,\n",
       "   'message': \"Unable to collect data for the field 'TR.PE' and some specific identifier(s).\",\n",
       "   'row': 0}])"
      ]
     },
     "execution_count": 261,
     "metadata": {},
     "output_type": "execute_result"
    }
   ],
   "source": [
    "ek.get_data('ABBV', ['EARNINGS', 'TR.PriceClose', 'TR.PE'])"
   ]
  },
  {
   "cell_type": "code",
   "execution_count": 262,
   "metadata": {
    "scrolled": true
   },
   "outputs": [
    {
     "data": {
      "text/plain": [
       "(   Instrument  EARNINGS  Price Close  P/E (Daily Time Series Ratio)\n",
       " 0  5037613143       NaN        97.01                      17.165719,\n",
       " [{'code': 251658243,\n",
       "   'col': 1,\n",
       "   'message': \"'The record could not be found' for the instrument '5037613143'\",\n",
       "   'row': 0}])"
      ]
     },
     "execution_count": 262,
     "metadata": {},
     "output_type": "execute_result"
    }
   ],
   "source": [
    "ek.get_data('5037613143', ['EARNINGS', 'TR.PriceClose', 'TR.PE'])"
   ]
  },
  {
   "cell_type": "code",
   "execution_count": 263,
   "metadata": {},
   "outputs": [
    {
     "data": {
      "text/plain": [
       "(  Instrument  EARNINGS  Price Close  P/E (Daily Time Series Ratio)\n",
       " 0     ABBV.K    5.6514        97.01                      17.165719,\n",
       " None)"
      ]
     },
     "execution_count": 263,
     "metadata": {},
     "output_type": "execute_result"
    }
   ],
   "source": [
    "ek.get_data('ABBV.K', ['EARNINGS', 'TR.PriceClose', 'TR.PE'])"
   ]
  },
  {
   "cell_type": "code",
   "execution_count": 264,
   "metadata": {},
   "outputs": [
    {
     "data": {
      "text/plain": [
       "17.168141592920353"
      ]
     },
     "execution_count": 264,
     "metadata": {},
     "output_type": "execute_result"
    }
   ],
   "source": [
    "# price / earnings = 17.16\n",
    "97/5.65"
   ]
  },
  {
   "cell_type": "markdown",
   "metadata": {},
   "source": [
    "weird isnt it lol"
   ]
  }
 ],
 "metadata": {
  "kernelspec": {
   "display_name": "Python 3",
   "language": "python",
   "name": "python3"
  },
  "language_info": {
   "codemirror_mode": {
    "name": "ipython",
    "version": 3
   },
   "file_extension": ".py",
   "mimetype": "text/x-python",
   "name": "python",
   "nbconvert_exporter": "python",
   "pygments_lexer": "ipython3",
   "version": "3.7.6"
  }
 },
 "nbformat": 4,
 "nbformat_minor": 4
}
