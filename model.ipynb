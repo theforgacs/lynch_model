{
 "cells": [
  {
   "cell_type": "code",
   "execution_count": 1,
   "metadata": {},
   "outputs": [],
   "source": [
    "import eikon as ek\n",
    "import pandas as pd\n",
    "import matplotlib.pyplot as plt\n",
    "%matplotlib inline"
   ]
  },
  {
   "cell_type": "code",
   "execution_count": 2,
   "metadata": {},
   "outputs": [],
   "source": [
    "ek.set_app_key('b499c15480534749a47879878c132348412d0c30')"
   ]
  },
  {
   "cell_type": "markdown",
   "metadata": {},
   "source": [
    "getting the sp500 stock names from wikipedia "
   ]
  },
  {
   "cell_type": "code",
   "execution_count": 3,
   "metadata": {},
   "outputs": [],
   "source": [
    "data, _ = pd.read_html(\n",
    "    'https://en.wikipedia.org/wiki/List_of_S%26P_500_companies')"
   ]
  },
  {
   "cell_type": "code",
   "execution_count": 4,
   "metadata": {
    "scrolled": false
   },
   "outputs": [
    {
     "data": {
      "text/plain": [
       "['MMM', 'ABT', 'ABBV', 'ABMD', 'ACN', 'ATVI', 'ADBE', 'AMD', 'AAP', 'AES']"
      ]
     },
     "execution_count": 4,
     "metadata": {},
     "output_type": "execute_result"
    }
   ],
   "source": [
    "symbols = data['Symbol'].tolist()\n",
    "symbols[:10]"
   ]
  },
  {
   "cell_type": "markdown",
   "metadata": {},
   "source": [
    "the symbols come in the <span style=\"color:red\">'ticker'</span> form, need to convert them to <span style=\"color:red\">'RIC'</span> or otherwise wont be able to retrieve any data"
   ]
  },
  {
   "cell_type": "code",
   "execution_count": 18,
   "metadata": {},
   "outputs": [],
   "source": [
    "def ticker_to_rics(symbols: list) -> list: \n",
    "    rics = ek.symbology.get_symbology(symbols, \n",
    "                                      from_symbol_type='ticker',\n",
    "                                      to_symbol_type='RIC',\n",
    "                                      bestMatch=False)\n",
    "    rics = rics['RICs'].apply(func).values\n",
    "    return rics.tolist()\n",
    "\n",
    "def func(x):\n",
    "    if [i for i in x[0] if i.islower()]:\n",
    "        return x[1]\n",
    "    return x[0]"
   ]
  },
  {
   "cell_type": "markdown",
   "metadata": {},
   "source": [
    "retrieving the data for all stocks of SP500 takes about 30 seconds "
   ]
  },
  {
   "cell_type": "code",
   "execution_count": 19,
   "metadata": {},
   "outputs": [],
   "source": [
    "df, _ =  ek.get_data(instruments=ticker_to_rics(symbols), \n",
    "                     fields=['TR.ClosePrice', 'TR.PE', 'EARNINGS'])"
   ]
  },
  {
   "cell_type": "code",
   "execution_count": 20,
   "metadata": {
    "scrolled": true
   },
   "outputs": [
    {
     "data": {
      "text/html": [
       "<div>\n",
       "<style scoped>\n",
       "    .dataframe tbody tr th:only-of-type {\n",
       "        vertical-align: middle;\n",
       "    }\n",
       "\n",
       "    .dataframe tbody tr th {\n",
       "        vertical-align: top;\n",
       "    }\n",
       "\n",
       "    .dataframe thead th {\n",
       "        text-align: right;\n",
       "    }\n",
       "</style>\n",
       "<table border=\"1\" class=\"dataframe\">\n",
       "  <thead>\n",
       "    <tr style=\"text-align: right;\">\n",
       "      <th></th>\n",
       "      <th>Instrument</th>\n",
       "      <th>Close Price</th>\n",
       "      <th>P/E (Daily Time Series Ratio)</th>\n",
       "      <th>EARNINGS</th>\n",
       "    </tr>\n",
       "  </thead>\n",
       "  <tbody>\n",
       "    <tr>\n",
       "      <th>0</th>\n",
       "      <td>MMM</td>\n",
       "      <td>152.12</td>\n",
       "      <td>17.244956</td>\n",
       "      <td>8.8211</td>\n",
       "    </tr>\n",
       "    <tr>\n",
       "      <th>1</th>\n",
       "      <td>ABT</td>\n",
       "      <td>101.53</td>\n",
       "      <td>58.730976</td>\n",
       "      <td>1.7287</td>\n",
       "    </tr>\n",
       "    <tr>\n",
       "      <th>2</th>\n",
       "      <td>ABBV.K</td>\n",
       "      <td>96.04</td>\n",
       "      <td>16.994079</td>\n",
       "      <td>5.6514</td>\n",
       "    </tr>\n",
       "    <tr>\n",
       "      <th>3</th>\n",
       "      <td>ABMD.O</td>\n",
       "      <td>298.91</td>\n",
       "      <td>67.501468</td>\n",
       "      <td>4.4282</td>\n",
       "    </tr>\n",
       "    <tr>\n",
       "      <th>4</th>\n",
       "      <td>ACN</td>\n",
       "      <td>223.98</td>\n",
       "      <td>29.176599</td>\n",
       "      <td>7.6744</td>\n",
       "    </tr>\n",
       "    <tr>\n",
       "      <th>5</th>\n",
       "      <td>ATVI.O</td>\n",
       "      <td>81.70</td>\n",
       "      <td>40.419532</td>\n",
       "      <td>2.0213</td>\n",
       "    </tr>\n",
       "    <tr>\n",
       "      <th>6</th>\n",
       "      <td>ADBE.O</td>\n",
       "      <td>438.88</td>\n",
       "      <td>57.823071</td>\n",
       "      <td>7.5901</td>\n",
       "    </tr>\n",
       "    <tr>\n",
       "      <th>7</th>\n",
       "      <td>AMD.O</td>\n",
       "      <td>78.20</td>\n",
       "      <td>155.408494</td>\n",
       "      <td>0.5032</td>\n",
       "    </tr>\n",
       "    <tr>\n",
       "      <th>8</th>\n",
       "      <td>AAP</td>\n",
       "      <td>152.87</td>\n",
       "      <td>27.860143</td>\n",
       "      <td>5.4936</td>\n",
       "    </tr>\n",
       "    <tr>\n",
       "      <th>9</th>\n",
       "      <td>AES</td>\n",
       "      <td>15.42</td>\n",
       "      <td>35.248937</td>\n",
       "      <td>0.4375</td>\n",
       "    </tr>\n",
       "  </tbody>\n",
       "</table>\n",
       "</div>"
      ],
      "text/plain": [
       "  Instrument  Close Price  P/E (Daily Time Series Ratio)  EARNINGS\n",
       "0        MMM       152.12                      17.244956    8.8211\n",
       "1        ABT       101.53                      58.730976    1.7287\n",
       "2     ABBV.K        96.04                      16.994079    5.6514\n",
       "3     ABMD.O       298.91                      67.501468    4.4282\n",
       "4        ACN       223.98                      29.176599    7.6744\n",
       "5     ATVI.O        81.70                      40.419532    2.0213\n",
       "6     ADBE.O       438.88                      57.823071    7.5901\n",
       "7      AMD.O        78.20                     155.408494    0.5032\n",
       "8        AAP       152.87                      27.860143    5.4936\n",
       "9        AES        15.42                      35.248937    0.4375"
      ]
     },
     "execution_count": 20,
     "metadata": {},
     "output_type": "execute_result"
    }
   ],
   "source": [
    "df.head(10)"
   ]
  },
  {
   "cell_type": "markdown",
   "metadata": {},
   "source": [
    "some of the values for P/E will be NaN for the symbols with negative earnings, thats fine"
   ]
  },
  {
   "cell_type": "code",
   "execution_count": 21,
   "metadata": {
    "scrolled": false
   },
   "outputs": [
    {
     "data": {
      "text/html": [
       "<div>\n",
       "<style scoped>\n",
       "    .dataframe tbody tr th:only-of-type {\n",
       "        vertical-align: middle;\n",
       "    }\n",
       "\n",
       "    .dataframe tbody tr th {\n",
       "        vertical-align: top;\n",
       "    }\n",
       "\n",
       "    .dataframe thead th {\n",
       "        text-align: right;\n",
       "    }\n",
       "</style>\n",
       "<table border=\"1\" class=\"dataframe\">\n",
       "  <thead>\n",
       "    <tr style=\"text-align: right;\">\n",
       "      <th></th>\n",
       "      <th>Instrument</th>\n",
       "      <th>Close Price</th>\n",
       "      <th>P/E (Daily Time Series Ratio)</th>\n",
       "      <th>EARNINGS</th>\n",
       "    </tr>\n",
       "  </thead>\n",
       "  <tbody>\n",
       "    <tr>\n",
       "      <th>24</th>\n",
       "      <td>MO</td>\n",
       "      <td>41.580</td>\n",
       "      <td>NaN</td>\n",
       "      <td>-0.4635</td>\n",
       "    </tr>\n",
       "    <tr>\n",
       "      <th>28</th>\n",
       "      <td>AAL.O</td>\n",
       "      <td>11.180</td>\n",
       "      <td>NaN</td>\n",
       "      <td>-8.1735</td>\n",
       "    </tr>\n",
       "    <tr>\n",
       "      <th>39</th>\n",
       "      <td>.ADI</td>\n",
       "      <td>4304.736</td>\n",
       "      <td>NaN</td>\n",
       "      <td>NaN</td>\n",
       "    </tr>\n",
       "    <tr>\n",
       "      <th>44</th>\n",
       "      <td>APA.O</td>\n",
       "      <td>16.010</td>\n",
       "      <td>NaN</td>\n",
       "      <td>-21.2178</td>\n",
       "    </tr>\n",
       "    <tr>\n",
       "      <th>60</th>\n",
       "      <td>BKR</td>\n",
       "      <td>15.330</td>\n",
       "      <td>NaN</td>\n",
       "      <td>-15.7680</td>\n",
       "    </tr>\n",
       "    <tr>\n",
       "      <th>71</th>\n",
       "      <td>BA</td>\n",
       "      <td>161.950</td>\n",
       "      <td>NaN</td>\n",
       "      <td>-5.0347</td>\n",
       "    </tr>\n",
       "    <tr>\n",
       "      <th>85</th>\n",
       "      <td>CAH</td>\n",
       "      <td>56.480</td>\n",
       "      <td>NaN</td>\n",
       "      <td>-14.0385</td>\n",
       "    </tr>\n",
       "    <tr>\n",
       "      <th>87</th>\n",
       "      <td>CCL</td>\n",
       "      <td>14.340</td>\n",
       "      <td>NaN</td>\n",
       "      <td>-4.0167</td>\n",
       "    </tr>\n",
       "    <tr>\n",
       "      <th>95</th>\n",
       "      <td>CNP</td>\n",
       "      <td>19.130</td>\n",
       "      <td>NaN</td>\n",
       "      <td>-1.0983</td>\n",
       "    </tr>\n",
       "    <tr>\n",
       "      <th>121</th>\n",
       "      <td>CXO</td>\n",
       "      <td>50.750</td>\n",
       "      <td>NaN</td>\n",
       "      <td>-49.3072</td>\n",
       "    </tr>\n",
       "  </tbody>\n",
       "</table>\n",
       "</div>"
      ],
      "text/plain": [
       "    Instrument  Close Price  P/E (Daily Time Series Ratio)  EARNINGS\n",
       "24          MO       41.580                            NaN   -0.4635\n",
       "28       AAL.O       11.180                            NaN   -8.1735\n",
       "39        .ADI     4304.736                            NaN       NaN\n",
       "44       APA.O       16.010                            NaN  -21.2178\n",
       "60         BKR       15.330                            NaN  -15.7680\n",
       "71          BA      161.950                            NaN   -5.0347\n",
       "85         CAH       56.480                            NaN  -14.0385\n",
       "87         CCL       14.340                            NaN   -4.0167\n",
       "95         CNP       19.130                            NaN   -1.0983\n",
       "121        CXO       50.750                            NaN  -49.3072"
      ]
     },
     "execution_count": 21,
     "metadata": {},
     "output_type": "execute_result"
    }
   ],
   "source": [
    "df[df.isna().any(axis=1) == True].head(10)"
   ]
  },
  {
   "cell_type": "markdown",
   "metadata": {},
   "source": [
    "#### TODO address symbols with nan earnings below"
   ]
  },
  {
   "cell_type": "code",
   "execution_count": 22,
   "metadata": {
    "scrolled": true
   },
   "outputs": [
    {
     "data": {
      "text/html": [
       "<div>\n",
       "<style scoped>\n",
       "    .dataframe tbody tr th:only-of-type {\n",
       "        vertical-align: middle;\n",
       "    }\n",
       "\n",
       "    .dataframe tbody tr th {\n",
       "        vertical-align: top;\n",
       "    }\n",
       "\n",
       "    .dataframe thead th {\n",
       "        text-align: right;\n",
       "    }\n",
       "</style>\n",
       "<table border=\"1\" class=\"dataframe\">\n",
       "  <thead>\n",
       "    <tr style=\"text-align: right;\">\n",
       "      <th></th>\n",
       "      <th>Instrument</th>\n",
       "      <th>Close Price</th>\n",
       "      <th>P/E (Daily Time Series Ratio)</th>\n",
       "      <th>EARNINGS</th>\n",
       "    </tr>\n",
       "  </thead>\n",
       "  <tbody>\n",
       "    <tr>\n",
       "      <th>39</th>\n",
       "      <td>.ADI</td>\n",
       "      <td>4304.736</td>\n",
       "      <td>NaN</td>\n",
       "      <td>NaN</td>\n",
       "    </tr>\n",
       "    <tr>\n",
       "      <th>178</th>\n",
       "      <td>ESc1</td>\n",
       "      <td>3267.750</td>\n",
       "      <td>NaN</td>\n",
       "      <td>NaN</td>\n",
       "    </tr>\n",
       "  </tbody>\n",
       "</table>\n",
       "</div>"
      ],
      "text/plain": [
       "    Instrument  Close Price  P/E (Daily Time Series Ratio)  EARNINGS\n",
       "39        .ADI     4304.736                            NaN       NaN\n",
       "178       ESc1     3267.750                            NaN       NaN"
      ]
     },
     "execution_count": 22,
     "metadata": {},
     "output_type": "execute_result"
    }
   ],
   "source": [
    "df[df['EARNINGS'].isnull()]"
   ]
  },
  {
   "cell_type": "code",
   "execution_count": 29,
   "metadata": {},
   "outputs": [],
   "source": [
    "df['Price at P/E = 15'] = 15*df['EARNINGS']"
   ]
  },
  {
   "cell_type": "code",
   "execution_count": 46,
   "metadata": {},
   "outputs": [],
   "source": [
    "df['Diff'] = (df['Close Price'] - df['Price at P/E = 15'])/df['Close Price']"
   ]
  },
  {
   "cell_type": "code",
   "execution_count": 55,
   "metadata": {},
   "outputs": [
    {
     "data": {
      "text/html": [
       "<div>\n",
       "<style scoped>\n",
       "    .dataframe tbody tr th:only-of-type {\n",
       "        vertical-align: middle;\n",
       "    }\n",
       "\n",
       "    .dataframe tbody tr th {\n",
       "        vertical-align: top;\n",
       "    }\n",
       "\n",
       "    .dataframe thead th {\n",
       "        text-align: right;\n",
       "    }\n",
       "</style>\n",
       "<table border=\"1\" class=\"dataframe\">\n",
       "  <thead>\n",
       "    <tr style=\"text-align: right;\">\n",
       "      <th></th>\n",
       "      <th>Instrument</th>\n",
       "      <th>Close Price</th>\n",
       "      <th>P/E (Daily Time Series Ratio)</th>\n",
       "      <th>EARNINGS</th>\n",
       "      <th>Price at P/E = 15</th>\n",
       "      <th>Diff</th>\n",
       "    </tr>\n",
       "  </thead>\n",
       "  <tbody>\n",
       "    <tr>\n",
       "      <th>349</th>\n",
       "      <td>NRG</td>\n",
       "      <td>33.85</td>\n",
       "      <td>2.065898</td>\n",
       "      <td>16.3851</td>\n",
       "      <td>245.7765</td>\n",
       "      <td>-6.260753</td>\n",
       "    </tr>\n",
       "    <tr>\n",
       "      <th>475</th>\n",
       "      <td>VNO</td>\n",
       "      <td>35.24</td>\n",
       "      <td>2.305098</td>\n",
       "      <td>15.2922</td>\n",
       "      <td>229.3830</td>\n",
       "      <td>-5.509166</td>\n",
       "    </tr>\n",
       "    <tr>\n",
       "      <th>316</th>\n",
       "      <td>MGM</td>\n",
       "      <td>16.64</td>\n",
       "      <td>2.994050</td>\n",
       "      <td>5.5577</td>\n",
       "      <td>83.3655</td>\n",
       "      <td>-4.009946</td>\n",
       "    </tr>\n",
       "    <tr>\n",
       "      <th>464</th>\n",
       "      <td>UNM</td>\n",
       "      <td>17.16</td>\n",
       "      <td>3.655240</td>\n",
       "      <td>4.6946</td>\n",
       "      <td>70.4190</td>\n",
       "      <td>-3.103671</td>\n",
       "    </tr>\n",
       "    <tr>\n",
       "      <th>314</th>\n",
       "      <td>MET</td>\n",
       "      <td>37.55</td>\n",
       "      <td>3.998773</td>\n",
       "      <td>9.4000</td>\n",
       "      <td>141.0000</td>\n",
       "      <td>-2.754993</td>\n",
       "    </tr>\n",
       "    <tr>\n",
       "      <th>66</th>\n",
       "      <td>BRKb.N</td>\n",
       "      <td>194.30</td>\n",
       "      <td>48.692681</td>\n",
       "      <td>44.8500</td>\n",
       "      <td>672.7500</td>\n",
       "      <td>-2.462429</td>\n",
       "    </tr>\n",
       "    <tr>\n",
       "      <th>278</th>\n",
       "      <td>KSS</td>\n",
       "      <td>19.36</td>\n",
       "      <td>39.044066</td>\n",
       "      <td>4.3916</td>\n",
       "      <td>65.8740</td>\n",
       "      <td>-2.402583</td>\n",
       "    </tr>\n",
       "    <tr>\n",
       "      <th>31</th>\n",
       "      <td>AIG</td>\n",
       "      <td>31.78</td>\n",
       "      <td>6.457998</td>\n",
       "      <td>4.9189</td>\n",
       "      <td>73.7835</td>\n",
       "      <td>-1.321696</td>\n",
       "    </tr>\n",
       "    <tr>\n",
       "      <th>411</th>\n",
       "      <td>STX.O</td>\n",
       "      <td>44.40</td>\n",
       "      <td>6.608067</td>\n",
       "      <td>6.6514</td>\n",
       "      <td>99.7710</td>\n",
       "      <td>-1.247095</td>\n",
       "    </tr>\n",
       "    <tr>\n",
       "      <th>428</th>\n",
       "      <td>SYF</td>\n",
       "      <td>23.17</td>\n",
       "      <td>7.109194</td>\n",
       "      <td>3.2592</td>\n",
       "      <td>48.8880</td>\n",
       "      <td>-1.109970</td>\n",
       "    </tr>\n",
       "  </tbody>\n",
       "</table>\n",
       "</div>"
      ],
      "text/plain": [
       "    Instrument  Close Price  P/E (Daily Time Series Ratio)  EARNINGS  \\\n",
       "349        NRG        33.85                       2.065898   16.3851   \n",
       "475        VNO        35.24                       2.305098   15.2922   \n",
       "316        MGM        16.64                       2.994050    5.5577   \n",
       "464        UNM        17.16                       3.655240    4.6946   \n",
       "314        MET        37.55                       3.998773    9.4000   \n",
       "66      BRKb.N       194.30                      48.692681   44.8500   \n",
       "278        KSS        19.36                      39.044066    4.3916   \n",
       "31         AIG        31.78                       6.457998    4.9189   \n",
       "411      STX.O        44.40                       6.608067    6.6514   \n",
       "428        SYF        23.17                       7.109194    3.2592   \n",
       "\n",
       "     Price at P/E = 15      Diff  \n",
       "349           245.7765 -6.260753  \n",
       "475           229.3830 -5.509166  \n",
       "316            83.3655 -4.009946  \n",
       "464            70.4190 -3.103671  \n",
       "314           141.0000 -2.754993  \n",
       "66            672.7500 -2.462429  \n",
       "278            65.8740 -2.402583  \n",
       "31             73.7835 -1.321696  \n",
       "411            99.7710 -1.247095  \n",
       "428            48.8880 -1.109970  "
      ]
     },
     "execution_count": 55,
     "metadata": {},
     "output_type": "execute_result"
    }
   ],
   "source": [
    "df.sort_values(by='Diff', ascending=True).head(10)"
   ]
  }
 ],
 "metadata": {
  "kernelspec": {
   "display_name": "Python 3",
   "language": "python",
   "name": "python3"
  },
  "language_info": {
   "codemirror_mode": {
    "name": "ipython",
    "version": 3
   },
   "file_extension": ".py",
   "mimetype": "text/x-python",
   "name": "python",
   "nbconvert_exporter": "python",
   "pygments_lexer": "ipython3",
   "version": "3.7.6"
  }
 },
 "nbformat": 4,
 "nbformat_minor": 4
}
