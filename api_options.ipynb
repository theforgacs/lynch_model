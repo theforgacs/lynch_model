{
 "cells": [
  {
   "cell_type": "code",
   "execution_count": 1,
   "metadata": {
    "scrolled": true
   },
   "outputs": [],
   "source": [
    "import requests\n",
    "import json"
   ]
  },
  {
   "cell_type": "markdown",
   "metadata": {},
   "source": [
    "### could use:\n",
    "\n",
    "- _financialmodelingprep.com_ "
   ]
  },
  {
   "cell_type": "code",
   "execution_count": 110,
   "metadata": {},
   "outputs": [],
   "source": [
    "params = {'apikey': '5c441504040297013249ee348e014f85'}\n",
    "url = 'https://financialmodelingprep.com/api/v3/stock/list'\n",
    "\n",
    "r = requests.get(url, params)"
   ]
  },
  {
   "cell_type": "code",
   "execution_count": 111,
   "metadata": {},
   "outputs": [],
   "source": [
    "df = pd.DataFrame(r.json())"
   ]
  },
  {
   "cell_type": "code",
   "execution_count": 112,
   "metadata": {},
   "outputs": [
    {
     "data": {
      "text/plain": [
       "14369"
      ]
     },
     "execution_count": 112,
     "metadata": {},
     "output_type": "execute_result"
    }
   ],
   "source": [
    "len(df)"
   ]
  },
  {
   "cell_type": "code",
   "execution_count": 113,
   "metadata": {
    "scrolled": false
   },
   "outputs": [
    {
     "data": {
      "text/plain": [
       "{'Amsterdam',\n",
       " 'BATS',\n",
       " 'BATS Exchange',\n",
       " 'Brussels',\n",
       " 'Lisbon',\n",
       " 'MCX',\n",
       " 'NASDAQ Capital Market',\n",
       " 'NASDAQ Global Market',\n",
       " 'NYSE',\n",
       " 'NYSE American',\n",
       " 'NYSE Arca',\n",
       " 'NYSEArca',\n",
       " 'Nasdaq',\n",
       " 'Nasdaq Global Select',\n",
       " 'NasdaqCM',\n",
       " 'NasdaqGM',\n",
       " 'NasdaqGS',\n",
       " 'New York Stock Exchange',\n",
       " 'Other OTC',\n",
       " 'Paris',\n",
       " 'Swiss',\n",
       " 'Toronto',\n",
       " 'YHD',\n",
       " nan}"
      ]
     },
     "execution_count": 113,
     "metadata": {},
     "output_type": "execute_result"
    }
   ],
   "source": [
    "set(df['exchange'].tolist())"
   ]
  },
  {
   "cell_type": "code",
   "execution_count": 114,
   "metadata": {
    "scrolled": true
   },
   "outputs": [
    {
     "data": {
      "text/html": [
       "<div>\n",
       "<style scoped>\n",
       "    .dataframe tbody tr th:only-of-type {\n",
       "        vertical-align: middle;\n",
       "    }\n",
       "\n",
       "    .dataframe tbody tr th {\n",
       "        vertical-align: top;\n",
       "    }\n",
       "\n",
       "    .dataframe thead th {\n",
       "        text-align: right;\n",
       "    }\n",
       "</style>\n",
       "<table border=\"1\" class=\"dataframe\">\n",
       "  <thead>\n",
       "    <tr style=\"text-align: right;\">\n",
       "      <th></th>\n",
       "      <th>symbol</th>\n",
       "      <th>name</th>\n",
       "      <th>price</th>\n",
       "      <th>exchange</th>\n",
       "    </tr>\n",
       "  </thead>\n",
       "  <tbody>\n",
       "    <tr>\n",
       "      <th>2</th>\n",
       "      <td>KMI</td>\n",
       "      <td>Kinder Morgan Inc.</td>\n",
       "      <td>14.53</td>\n",
       "      <td>New York Stock Exchange</td>\n",
       "    </tr>\n",
       "    <tr>\n",
       "      <th>6</th>\n",
       "      <td>GE</td>\n",
       "      <td>General Electric Company</td>\n",
       "      <td>6.59</td>\n",
       "      <td>New York Stock Exchange</td>\n",
       "    </tr>\n",
       "    <tr>\n",
       "      <th>7</th>\n",
       "      <td>BAC</td>\n",
       "      <td>Bank of America Corporation</td>\n",
       "      <td>25.27</td>\n",
       "      <td>New York Stock Exchange</td>\n",
       "    </tr>\n",
       "    <tr>\n",
       "      <th>13</th>\n",
       "      <td>HPQ</td>\n",
       "      <td>HP Inc.</td>\n",
       "      <td>17.08</td>\n",
       "      <td>New York Stock Exchange</td>\n",
       "    </tr>\n",
       "    <tr>\n",
       "      <th>14</th>\n",
       "      <td>CX</td>\n",
       "      <td>Cemex S.A.B. de C.V. Sponsored ADR</td>\n",
       "      <td>3.16</td>\n",
       "      <td>New York Stock Exchange</td>\n",
       "    </tr>\n",
       "    <tr>\n",
       "      <th>18</th>\n",
       "      <td>F</td>\n",
       "      <td>Ford Motor Company</td>\n",
       "      <td>6.92</td>\n",
       "      <td>New York Stock Exchange</td>\n",
       "    </tr>\n",
       "    <tr>\n",
       "      <th>20</th>\n",
       "      <td>SNAP</td>\n",
       "      <td>Snap Inc. Class A</td>\n",
       "      <td>22.90</td>\n",
       "      <td>New York Stock Exchange</td>\n",
       "    </tr>\n",
       "    <tr>\n",
       "      <th>22</th>\n",
       "      <td>WFC</td>\n",
       "      <td>Wells Fargo &amp; Company</td>\n",
       "      <td>25.78</td>\n",
       "      <td>New York Stock Exchange</td>\n",
       "    </tr>\n",
       "    <tr>\n",
       "      <th>23</th>\n",
       "      <td>AIG</td>\n",
       "      <td>American International Group Inc.</td>\n",
       "      <td>32.67</td>\n",
       "      <td>New York Stock Exchange</td>\n",
       "    </tr>\n",
       "    <tr>\n",
       "      <th>24</th>\n",
       "      <td>T</td>\n",
       "      <td>AT&amp;T Inc.</td>\n",
       "      <td>29.56</td>\n",
       "      <td>New York Stock Exchange</td>\n",
       "    </tr>\n",
       "  </tbody>\n",
       "</table>\n",
       "</div>"
      ],
      "text/plain": [
       "   symbol                                name  price                 exchange\n",
       "2     KMI                  Kinder Morgan Inc.  14.53  New York Stock Exchange\n",
       "6      GE            General Electric Company   6.59  New York Stock Exchange\n",
       "7     BAC         Bank of America Corporation  25.27  New York Stock Exchange\n",
       "13    HPQ                             HP Inc.  17.08  New York Stock Exchange\n",
       "14     CX  Cemex S.A.B. de C.V. Sponsored ADR   3.16  New York Stock Exchange\n",
       "18      F                  Ford Motor Company   6.92  New York Stock Exchange\n",
       "20   SNAP                   Snap Inc. Class A  22.90  New York Stock Exchange\n",
       "22    WFC               Wells Fargo & Company  25.78  New York Stock Exchange\n",
       "23    AIG   American International Group Inc.  32.67  New York Stock Exchange\n",
       "24      T                           AT&T Inc.  29.56  New York Stock Exchange"
      ]
     },
     "execution_count": 114,
     "metadata": {},
     "output_type": "execute_result"
    }
   ],
   "source": [
    "df[df['exchange'] == 'New York Stock Exchange'].head(10)"
   ]
  },
  {
   "cell_type": "markdown",
   "metadata": {},
   "source": [
    "- _iexcloud.io_ "
   ]
  },
  {
   "cell_type": "code",
   "execution_count": 115,
   "metadata": {},
   "outputs": [],
   "source": [
    "import pyEX"
   ]
  },
  {
   "cell_type": "code",
   "execution_count": 116,
   "metadata": {},
   "outputs": [],
   "source": [
    "token = 'pk_e2451d3644e5441ca64f00de53a4c00a'\n",
    "secret = ':)'"
   ]
  },
  {
   "cell_type": "code",
   "execution_count": 117,
   "metadata": {},
   "outputs": [],
   "source": [
    "c = pyEX.Client(api_token=token)"
   ]
  },
  {
   "cell_type": "code",
   "execution_count": 121,
   "metadata": {},
   "outputs": [
    {
     "data": {
      "text/html": [
       "<div>\n",
       "<style scoped>\n",
       "    .dataframe tbody tr th:only-of-type {\n",
       "        vertical-align: middle;\n",
       "    }\n",
       "\n",
       "    .dataframe tbody tr th {\n",
       "        vertical-align: top;\n",
       "    }\n",
       "\n",
       "    .dataframe thead th {\n",
       "        text-align: right;\n",
       "    }\n",
       "</style>\n",
       "<table border=\"1\" class=\"dataframe\">\n",
       "  <thead>\n",
       "    <tr style=\"text-align: right;\">\n",
       "      <th></th>\n",
       "      <th>symbol</th>\n",
       "      <th>exchange</th>\n",
       "      <th>name</th>\n",
       "      <th>date</th>\n",
       "      <th>type</th>\n",
       "      <th>iexId</th>\n",
       "      <th>region</th>\n",
       "      <th>currency</th>\n",
       "      <th>isEnabled</th>\n",
       "      <th>figi</th>\n",
       "      <th>cik</th>\n",
       "    </tr>\n",
       "  </thead>\n",
       "  <tbody>\n",
       "    <tr>\n",
       "      <th>0</th>\n",
       "      <td>A</td>\n",
       "      <td>NYS</td>\n",
       "      <td>Agilent Technologies Inc.</td>\n",
       "      <td>2020-07-30</td>\n",
       "      <td>cs</td>\n",
       "      <td>IEX_46574843354B2D52</td>\n",
       "      <td>US</td>\n",
       "      <td>USD</td>\n",
       "      <td>True</td>\n",
       "      <td>BBG000C2V3D6</td>\n",
       "      <td>1090872</td>\n",
       "    </tr>\n",
       "    <tr>\n",
       "      <th>1</th>\n",
       "      <td>AA</td>\n",
       "      <td>NYS</td>\n",
       "      <td>Alcoa Corp.</td>\n",
       "      <td>2020-07-30</td>\n",
       "      <td>cs</td>\n",
       "      <td>IEX_4238333734532D52</td>\n",
       "      <td>US</td>\n",
       "      <td>USD</td>\n",
       "      <td>True</td>\n",
       "      <td>BBG00B3T3HD3</td>\n",
       "      <td>1675149</td>\n",
       "    </tr>\n",
       "    <tr>\n",
       "      <th>2</th>\n",
       "      <td>AAAU</td>\n",
       "      <td>PSE</td>\n",
       "      <td>Perth Mint Physical Gold ETF</td>\n",
       "      <td>2020-07-30</td>\n",
       "      <td>et</td>\n",
       "      <td>IEX_474B433136332D52</td>\n",
       "      <td>US</td>\n",
       "      <td>USD</td>\n",
       "      <td>True</td>\n",
       "      <td>BBG00LPXX872</td>\n",
       "      <td>None</td>\n",
       "    </tr>\n",
       "    <tr>\n",
       "      <th>3</th>\n",
       "      <td>AACG</td>\n",
       "      <td>NAS</td>\n",
       "      <td>ATA Creativity Global Sponsored ADR</td>\n",
       "      <td>2020-07-30</td>\n",
       "      <td>ad</td>\n",
       "      <td>IEX_44595A4C53392D52</td>\n",
       "      <td>US</td>\n",
       "      <td>USD</td>\n",
       "      <td>True</td>\n",
       "      <td>BBG000V2S3P6</td>\n",
       "      <td>None</td>\n",
       "    </tr>\n",
       "    <tr>\n",
       "      <th>4</th>\n",
       "      <td>AACQU</td>\n",
       "      <td>NAS</td>\n",
       "      <td>Artius Acquisition Inc. Units Cons of 1 Shs A ...</td>\n",
       "      <td>2020-07-30</td>\n",
       "      <td>ut</td>\n",
       "      <td>IEX_474656574E422D52</td>\n",
       "      <td>US</td>\n",
       "      <td>USD</td>\n",
       "      <td>True</td>\n",
       "      <td>BBG00VQPPKH7</td>\n",
       "      <td>None</td>\n",
       "    </tr>\n",
       "  </tbody>\n",
       "</table>\n",
       "</div>"
      ],
      "text/plain": [
       "  symbol exchange                                               name  \\\n",
       "0      A      NYS                          Agilent Technologies Inc.   \n",
       "1     AA      NYS                                        Alcoa Corp.   \n",
       "2   AAAU      PSE                       Perth Mint Physical Gold ETF   \n",
       "3   AACG      NAS                ATA Creativity Global Sponsored ADR   \n",
       "4  AACQU      NAS  Artius Acquisition Inc. Units Cons of 1 Shs A ...   \n",
       "\n",
       "         date type                 iexId region currency  isEnabled  \\\n",
       "0  2020-07-30   cs  IEX_46574843354B2D52     US      USD       True   \n",
       "1  2020-07-30   cs  IEX_4238333734532D52     US      USD       True   \n",
       "2  2020-07-30   et  IEX_474B433136332D52     US      USD       True   \n",
       "3  2020-07-30   ad  IEX_44595A4C53392D52     US      USD       True   \n",
       "4  2020-07-30   ut  IEX_474656574E422D52     US      USD       True   \n",
       "\n",
       "           figi      cik  \n",
       "0  BBG000C2V3D6  1090872  \n",
       "1  BBG00B3T3HD3  1675149  \n",
       "2  BBG00LPXX872     None  \n",
       "3  BBG000V2S3P6     None  \n",
       "4  BBG00VQPPKH7     None  "
      ]
     },
     "execution_count": 121,
     "metadata": {},
     "output_type": "execute_result"
    }
   ],
   "source": [
    "df = pd.DataFrame(c.symbols())\n",
    "df.head(5)"
   ]
  },
  {
   "cell_type": "markdown",
   "metadata": {},
   "source": [
    "only 5 exchanges for _iexcloud.io_"
   ]
  },
  {
   "cell_type": "code",
   "execution_count": 119,
   "metadata": {
    "scrolled": false
   },
   "outputs": [
    {
     "data": {
      "text/plain": [
       "{'ASE', 'BATS', 'NAS', 'NYS', 'PSE'}"
      ]
     },
     "execution_count": 119,
     "metadata": {},
     "output_type": "execute_result"
    }
   ],
   "source": [
    "set(df['exchange'].tolist())"
   ]
  },
  {
   "cell_type": "code",
   "execution_count": 120,
   "metadata": {
    "scrolled": true
   },
   "outputs": [
    {
     "data": {
      "text/plain": [
       "8925"
      ]
     },
     "execution_count": 120,
     "metadata": {},
     "output_type": "execute_result"
    }
   ],
   "source": [
    "len(set(df['symbol'].tolist()))"
   ]
  },
  {
   "cell_type": "markdown",
   "metadata": {},
   "source": [
    "- thomson reuters eikon\n"
   ]
  },
  {
   "cell_type": "code",
   "execution_count": null,
   "metadata": {},
   "outputs": [],
   "source": [
    "GLOBAL EXCHANGES - THOMSON REUTERS SPEED GUIDE                         EXCHANGES\n",
    "Detailed below is a list of Exchange Guides by country.                         \n",
    "                                                                                \n",
    "=EXCHANGES BY COUNTRY==================  =EXCHANGES BY COUNTRY Cont=============\n",
    "AFRICAN Countries...........<AFR/EXCH1>  Netherlands.................<NXT/EXCH1>\n",
    "ASIAN Countries............<ASIA/EXCH1>  New Zealand..................<NZ/EXCH1>\n",
    "Austria......................<AT/EXCH1>  Norway.......................<NO/EXCH1>\n",
    "Belgium.....................<NXT/EXCH1>  Portugal....................<NXT/EXCH1>\n",
    "Canada.......................<CA/EXCH1>  Sweden.......................<SE/EXCH1>\n",
    "Denmark......................<DK/EXCH1>  Spain........................<ES/EXCH1>\n",
    "EASTERN EUROPEAN Countries..<EEU/EXCH1>  Switzerland..................<CH/EXCH1>\n",
    "Finland......................<FI/EXCH1>  Turkey.......................<TR/EXCH1>\n",
    "France......................<NXT/EXCH1>  United Kingdom...............<GB/EXCH1>\n",
    "Germany......................<DE/EXCH1>  United States................<US/EXCH1>\n",
    "Greece.......................<GR/EXCH1>  Virt-x.......................<VX/EXCH1>\n",
    "Iceland......................<IS/EXCH1>  TRIAX Global Exchange...........<TRIAX>\n",
    "India........................<IN/EXCH1>  =RELATED GUIDES========================\n",
    "Ireland......................<IE/EXCH1>  European MTFs...................<MIFID>\n",
    "Italy........................<IT/EXCH1>  Global Mkt & Public Holidays.<HOLIDAY1>\n",
    "LATAM Countries...........<LATAM/EXCH1>  Scheduled Data Notifications..<CHANGES>\n",
    "Luxembourg...................<LU/EXCH1>  Service Alerts..................<ALERT>\n",
    "MIDDLE EASTERN Countries.....<ME/EXCH1>                                         \n",
    "================================================================================\n",
    "Futures Index<FUTURES>    Equities Index<EQUITY> Exchange Identifiers <EXCHID01>\n",
    "Lost?Selective Access..<USER/HELP>         Refinitiv Phone Support..<PHONE/HELP>\n"
   ]
  },
  {
   "cell_type": "code",
   "execution_count": null,
   "metadata": {},
   "outputs": [],
   "source": [
    "US EXCHANGES INFORMATION - REFINITIV SPEED GUIDE                        US/EXCH1\n",
    "welcome to the US Exchanges Information Guide.  Detailed on the following       \n",
    "pages, is Information for all US Exchanges.                                     \n",
    "                                                                                \n",
    "=US EXCHANGES==========================  =US EXCHANGES==========================\n",
    "NYSE American............... <US/EXCH2>  Philadelphia Board of Trade.<US/EXCH19>\n",
    "New York Stock Exchange(NYSE)<US/EXCH3>  Intl Securities Exchange....<US/EXCH20>\n",
    "NASDAQ OMX BX................<US/EXCH4>  NASD........................<US/EXCH21>\n",
    "NYSE Chicago.................<US/EXCH5>  OTC Bulletin Board..........<US/EXCH22>\n",
    "NYSE National Exchange.......<US/EXCH6>  Boston Options Exch (BOX)...<US/EXCH23>\n",
    "NASDAQ OMX PSX.............. <US/EXCH7>  One Chicago.................<US/EXCH24>\n",
    "NYSE ARCA Exchange...........<US/EXCH8>  Cboe Global Markets Inc.....<US/EXCH25>\n",
    "NASDAQ.......................<US/EXCH9>  OTC Market..................<US/EXCH26>\n",
    "NYBOT.......................<US/EXCH10>  Chicago Climate Futures Ex..<US/EXCH27>\n",
    "Chicago Board of Trade......<US/EXCH11>  NYSE LIFFE U.S..............<US/EXCH28>\n",
    "Chicago Mercantile Exchange.<US/EXCH12>  Cboe Edge...................<US/EXCH29>\n",
    "Chicago Options Exch(CBOE)..<US/EXCH13>  CBOE Futures Exchange.......<US/EXCH30>\n",
    "Kansas City Board of Trade..<US/EXCH14>  Investors Exchange..........<US/EXCH31>\n",
    "MidAmerica Commodity Exch...<US/EXCH15>  MIAX Options Exchange.......<US/EXCH32>\n",
    "Minneapolis Grains Exchange.<US/EXCH16>  =RELATED GUIDES========================\n",
    "NYMEX.......................<US/EXCH17>  Global Futures Guide..........<FUTURES>\n",
    "NY Futures/NY Cotton Exch...<US/EXCH18>  Retrieval Codes/Brok Charactr<US/CHAR1>\n",
    "================================================================================\n",
    "Equity Guide <EQUITY>        US Equities <US/EQUITY>        Next Page <US/EXCH2>\n",
    "Lost? Selective Access?..<USER/HELP> Refinitiv Phone Support..<PHONE/HELP>      \n"
   ]
  }
 ],
 "metadata": {
  "kernelspec": {
   "display_name": "Python 3",
   "language": "python",
   "name": "python3"
  },
  "language_info": {
   "codemirror_mode": {
    "name": "ipython",
    "version": 3
   },
   "file_extension": ".py",
   "mimetype": "text/x-python",
   "name": "python",
   "nbconvert_exporter": "python",
   "pygments_lexer": "ipython3",
   "version": "3.7.6"
  }
 },
 "nbformat": 4,
 "nbformat_minor": 4
}
