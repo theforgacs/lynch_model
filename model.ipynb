{
 "cells": [
  {
   "cell_type": "code",
   "execution_count": 7,
   "metadata": {},
   "outputs": [],
   "source": [
    "import eikon as ek\n",
    "import pandas as pd\n",
    "import matplotlib.pyplot as plt\n",
    "%matplotlib inline"
   ]
  },
  {
   "cell_type": "code",
   "execution_count": 18,
   "metadata": {},
   "outputs": [],
   "source": [
    "ek.set_app_key('b499c15480534749a47879878c132348412d0c30')"
   ]
  },
  {
   "cell_type": "markdown",
   "metadata": {},
   "source": [
    "getting the sp500 stock names from wikipedia "
   ]
  },
  {
   "cell_type": "code",
   "execution_count": 9,
   "metadata": {},
   "outputs": [],
   "source": [
    "data, _ = pd.read_html(\n",
    "    'https://en.wikipedia.org/wiki/List_of_S%26P_500_companies')"
   ]
  },
  {
   "cell_type": "code",
   "execution_count": 28,
   "metadata": {
    "scrolled": false
   },
   "outputs": [
    {
     "data": {
      "text/plain": [
       "['MMM', 'ABT', 'ABBV', 'ABMD', 'ACN', 'ATVI', 'ADBE', 'AMD', 'AAP', 'AES']"
      ]
     },
     "execution_count": 28,
     "metadata": {},
     "output_type": "execute_result"
    }
   ],
   "source": [
    "symbols = data['Symbol'].tolist()\n",
    "symbols[:10]"
   ]
  },
  {
   "cell_type": "markdown",
   "metadata": {},
   "source": [
    "the symbols come in the <span style=\"color:red\">'ticker'</span> form, need to convert them to <span style=\"color:red\">'RIC'</span> or otherwise wont be able to retrieve any data"
   ]
  },
  {
   "cell_type": "code",
   "execution_count": 333,
   "metadata": {},
   "outputs": [],
   "source": [
    "def ticker_to_rics(symbols: list) -> list: \n",
    "    rics = ek.symbology.get_symbology(symbols, \n",
    "                                      from_symbol_type='ticker',\n",
    "                                      to_symbol_type='RIC',\n",
    "                                      bestMatch=False)\n",
    "    rics = rics['RICs'].apply(lambda x: x[0]).values\n",
    "    return rics.tolist()"
   ]
  },
  {
   "cell_type": "markdown",
   "metadata": {},
   "source": [
    "retrieving the data for all stocks of SP500 takes about 30 seconds "
   ]
  },
  {
   "cell_type": "code",
   "execution_count": 338,
   "metadata": {},
   "outputs": [],
   "source": [
    "df, _ =  ek.get_data(instruments=ticker_to_rics(symbols), \n",
    "                     fields=['TR.ClosePrice', 'TR.PE', 'EARNINGS'])"
   ]
  },
  {
   "cell_type": "code",
   "execution_count": 356,
   "metadata": {},
   "outputs": [
    {
     "data": {
      "text/html": [
       "<div>\n",
       "<style scoped>\n",
       "    .dataframe tbody tr th:only-of-type {\n",
       "        vertical-align: middle;\n",
       "    }\n",
       "\n",
       "    .dataframe tbody tr th {\n",
       "        vertical-align: top;\n",
       "    }\n",
       "\n",
       "    .dataframe thead th {\n",
       "        text-align: right;\n",
       "    }\n",
       "</style>\n",
       "<table border=\"1\" class=\"dataframe\">\n",
       "  <thead>\n",
       "    <tr style=\"text-align: right;\">\n",
       "      <th></th>\n",
       "      <th>Instrument</th>\n",
       "      <th>Close Price</th>\n",
       "      <th>P/E (Daily Time Series Ratio)</th>\n",
       "      <th>EARNINGS</th>\n",
       "    </tr>\n",
       "  </thead>\n",
       "  <tbody>\n",
       "    <tr>\n",
       "      <th>0</th>\n",
       "      <td>MMM</td>\n",
       "      <td>152.12</td>\n",
       "      <td>17.244956</td>\n",
       "      <td>8.8211</td>\n",
       "    </tr>\n",
       "    <tr>\n",
       "      <th>1</th>\n",
       "      <td>ABT</td>\n",
       "      <td>101.53</td>\n",
       "      <td>58.730976</td>\n",
       "      <td>1.7287</td>\n",
       "    </tr>\n",
       "    <tr>\n",
       "      <th>2</th>\n",
       "      <td>ABBV.K</td>\n",
       "      <td>96.04</td>\n",
       "      <td>16.994079</td>\n",
       "      <td>5.6514</td>\n",
       "    </tr>\n",
       "    <tr>\n",
       "      <th>3</th>\n",
       "      <td>ABMD.O</td>\n",
       "      <td>298.91</td>\n",
       "      <td>67.544375</td>\n",
       "      <td>4.4282</td>\n",
       "    </tr>\n",
       "    <tr>\n",
       "      <th>4</th>\n",
       "      <td>ACN</td>\n",
       "      <td>223.98</td>\n",
       "      <td>29.176599</td>\n",
       "      <td>7.6744</td>\n",
       "    </tr>\n",
       "    <tr>\n",
       "      <th>5</th>\n",
       "      <td>ATVI.O</td>\n",
       "      <td>81.70</td>\n",
       "      <td>40.172166</td>\n",
       "      <td>2.0213</td>\n",
       "    </tr>\n",
       "    <tr>\n",
       "      <th>6</th>\n",
       "      <td>ADBE.O</td>\n",
       "      <td>438.88</td>\n",
       "      <td>57.483152</td>\n",
       "      <td>7.5901</td>\n",
       "    </tr>\n",
       "    <tr>\n",
       "      <th>7</th>\n",
       "      <td>AMD.O</td>\n",
       "      <td>78.20</td>\n",
       "      <td>187.045231</td>\n",
       "      <td>0.5032</td>\n",
       "    </tr>\n",
       "    <tr>\n",
       "      <th>8</th>\n",
       "      <td>AAP</td>\n",
       "      <td>152.87</td>\n",
       "      <td>27.860143</td>\n",
       "      <td>5.4936</td>\n",
       "    </tr>\n",
       "    <tr>\n",
       "      <th>9</th>\n",
       "      <td>AES</td>\n",
       "      <td>15.42</td>\n",
       "      <td>35.248937</td>\n",
       "      <td>0.4375</td>\n",
       "    </tr>\n",
       "  </tbody>\n",
       "</table>\n",
       "</div>"
      ],
      "text/plain": [
       "  Instrument  Close Price  P/E (Daily Time Series Ratio)  EARNINGS\n",
       "0        MMM       152.12                      17.244956    8.8211\n",
       "1        ABT       101.53                      58.730976    1.7287\n",
       "2     ABBV.K        96.04                      16.994079    5.6514\n",
       "3     ABMD.O       298.91                      67.544375    4.4282\n",
       "4        ACN       223.98                      29.176599    7.6744\n",
       "5     ATVI.O        81.70                      40.172166    2.0213\n",
       "6     ADBE.O       438.88                      57.483152    7.5901\n",
       "7      AMD.O        78.20                     187.045231    0.5032\n",
       "8        AAP       152.87                      27.860143    5.4936\n",
       "9        AES        15.42                      35.248937    0.4375"
      ]
     },
     "execution_count": 356,
     "metadata": {},
     "output_type": "execute_result"
    }
   ],
   "source": [
    "df.head(10)"
   ]
  },
  {
   "cell_type": "markdown",
   "metadata": {},
   "source": [
    "some of the values for P/E will be NaN for the symbols with negative earnings, thats fine"
   ]
  },
  {
   "cell_type": "code",
   "execution_count": 393,
   "metadata": {},
   "outputs": [
    {
     "data": {
      "text/html": [
       "<div>\n",
       "<style scoped>\n",
       "    .dataframe tbody tr th:only-of-type {\n",
       "        vertical-align: middle;\n",
       "    }\n",
       "\n",
       "    .dataframe tbody tr th {\n",
       "        vertical-align: top;\n",
       "    }\n",
       "\n",
       "    .dataframe thead th {\n",
       "        text-align: right;\n",
       "    }\n",
       "</style>\n",
       "<table border=\"1\" class=\"dataframe\">\n",
       "  <thead>\n",
       "    <tr style=\"text-align: right;\">\n",
       "      <th></th>\n",
       "      <th>Instrument</th>\n",
       "      <th>Close Price</th>\n",
       "      <th>P/E (Daily Time Series Ratio)</th>\n",
       "      <th>EARNINGS</th>\n",
       "    </tr>\n",
       "  </thead>\n",
       "  <tbody>\n",
       "    <tr>\n",
       "      <th>24</th>\n",
       "      <td>MO</td>\n",
       "      <td>41.580</td>\n",
       "      <td>NaN</td>\n",
       "      <td>-0.4290</td>\n",
       "    </tr>\n",
       "    <tr>\n",
       "      <th>28</th>\n",
       "      <td>AAL.O</td>\n",
       "      <td>11.180</td>\n",
       "      <td>NaN</td>\n",
       "      <td>-8.1735</td>\n",
       "    </tr>\n",
       "    <tr>\n",
       "      <th>39</th>\n",
       "      <td>.ADI</td>\n",
       "      <td>4304.736</td>\n",
       "      <td>NaN</td>\n",
       "      <td>NaN</td>\n",
       "    </tr>\n",
       "    <tr>\n",
       "      <th>44</th>\n",
       "      <td>APA.O</td>\n",
       "      <td>16.010</td>\n",
       "      <td>NaN</td>\n",
       "      <td>-21.2178</td>\n",
       "    </tr>\n",
       "    <tr>\n",
       "      <th>60</th>\n",
       "      <td>BKR</td>\n",
       "      <td>15.330</td>\n",
       "      <td>NaN</td>\n",
       "      <td>-15.7680</td>\n",
       "    </tr>\n",
       "    <tr>\n",
       "      <th>71</th>\n",
       "      <td>BA</td>\n",
       "      <td>161.950</td>\n",
       "      <td>NaN</td>\n",
       "      <td>-5.0347</td>\n",
       "    </tr>\n",
       "    <tr>\n",
       "      <th>75</th>\n",
       "      <td>BIFc1</td>\n",
       "      <td>NaN</td>\n",
       "      <td>NaN</td>\n",
       "      <td>NaN</td>\n",
       "    </tr>\n",
       "    <tr>\n",
       "      <th>85</th>\n",
       "      <td>CAH</td>\n",
       "      <td>56.480</td>\n",
       "      <td>NaN</td>\n",
       "      <td>-14.0385</td>\n",
       "    </tr>\n",
       "    <tr>\n",
       "      <th>87</th>\n",
       "      <td>CCL</td>\n",
       "      <td>14.340</td>\n",
       "      <td>NaN</td>\n",
       "      <td>-4.0167</td>\n",
       "    </tr>\n",
       "    <tr>\n",
       "      <th>95</th>\n",
       "      <td>CNP</td>\n",
       "      <td>19.130</td>\n",
       "      <td>NaN</td>\n",
       "      <td>-1.0983</td>\n",
       "    </tr>\n",
       "  </tbody>\n",
       "</table>\n",
       "</div>"
      ],
      "text/plain": [
       "   Instrument  Close Price  P/E (Daily Time Series Ratio)  EARNINGS\n",
       "24         MO       41.580                            NaN   -0.4290\n",
       "28      AAL.O       11.180                            NaN   -8.1735\n",
       "39       .ADI     4304.736                            NaN       NaN\n",
       "44      APA.O       16.010                            NaN  -21.2178\n",
       "60        BKR       15.330                            NaN  -15.7680\n",
       "71         BA      161.950                            NaN   -5.0347\n",
       "75      BIFc1          NaN                            NaN       NaN\n",
       "85        CAH       56.480                            NaN  -14.0385\n",
       "87        CCL       14.340                            NaN   -4.0167\n",
       "95        CNP       19.130                            NaN   -1.0983"
      ]
     },
     "execution_count": 393,
     "metadata": {},
     "output_type": "execute_result"
    }
   ],
   "source": [
    "df[df.isna().any(axis=1) == True].head(10)"
   ]
  },
  {
   "cell_type": "markdown",
   "metadata": {},
   "source": [
    "#### TODO address symbols with nan earnings below"
   ]
  },
  {
   "cell_type": "markdown",
   "metadata": {},
   "source": [
    "it looks like those symbols got changed to wrong rics "
   ]
  },
  {
   "cell_type": "code",
   "execution_count": 391,
   "metadata": {},
   "outputs": [
    {
     "data": {
      "text/html": [
       "<div>\n",
       "<style scoped>\n",
       "    .dataframe tbody tr th:only-of-type {\n",
       "        vertical-align: middle;\n",
       "    }\n",
       "\n",
       "    .dataframe tbody tr th {\n",
       "        vertical-align: top;\n",
       "    }\n",
       "\n",
       "    .dataframe thead th {\n",
       "        text-align: right;\n",
       "    }\n",
       "</style>\n",
       "<table border=\"1\" class=\"dataframe\">\n",
       "  <thead>\n",
       "    <tr style=\"text-align: right;\">\n",
       "      <th></th>\n",
       "      <th>Instrument</th>\n",
       "      <th>Close Price</th>\n",
       "      <th>P/E (Daily Time Series Ratio)</th>\n",
       "      <th>EARNINGS</th>\n",
       "    </tr>\n",
       "  </thead>\n",
       "  <tbody>\n",
       "    <tr>\n",
       "      <th>39</th>\n",
       "      <td>.ADI</td>\n",
       "      <td>4304.736</td>\n",
       "      <td>NaN</td>\n",
       "      <td>NaN</td>\n",
       "    </tr>\n",
       "    <tr>\n",
       "      <th>75</th>\n",
       "      <td>BIFc1</td>\n",
       "      <td>NaN</td>\n",
       "      <td>NaN</td>\n",
       "      <td>NaN</td>\n",
       "    </tr>\n",
       "    <tr>\n",
       "      <th>117</th>\n",
       "      <td>CLc1</td>\n",
       "      <td>40.330</td>\n",
       "      <td>NaN</td>\n",
       "      <td>NaN</td>\n",
       "    </tr>\n",
       "    <tr>\n",
       "      <th>178</th>\n",
       "      <td>EScv1</td>\n",
       "      <td>3267.750</td>\n",
       "      <td>NaN</td>\n",
       "      <td>NaN</td>\n",
       "    </tr>\n",
       "    <tr>\n",
       "      <th>437</th>\n",
       "      <td>AEXc1</td>\n",
       "      <td>550.200</td>\n",
       "      <td>NaN</td>\n",
       "      <td>NaN</td>\n",
       "    </tr>\n",
       "  </tbody>\n",
       "</table>\n",
       "</div>"
      ],
      "text/plain": [
       "    Instrument  Close Price  P/E (Daily Time Series Ratio)  EARNINGS\n",
       "39        .ADI     4304.736                            NaN       NaN\n",
       "75       BIFc1          NaN                            NaN       NaN\n",
       "117       CLc1       40.330                            NaN       NaN\n",
       "178      EScv1     3267.750                            NaN       NaN\n",
       "437      AEXc1      550.200                            NaN       NaN"
      ]
     },
     "execution_count": 391,
     "metadata": {},
     "output_type": "execute_result"
    }
   ],
   "source": [
    "nan[nan['EARNINGS'].isnull()]"
   ]
  }
 ],
 "metadata": {
  "kernelspec": {
   "display_name": "Python 3",
   "language": "python",
   "name": "python3"
  },
  "language_info": {
   "codemirror_mode": {
    "name": "ipython",
    "version": 3
   },
   "file_extension": ".py",
   "mimetype": "text/x-python",
   "name": "python",
   "nbconvert_exporter": "python",
   "pygments_lexer": "ipython3",
   "version": "3.7.6"
  }
 },
 "nbformat": 4,
 "nbformat_minor": 4
}
