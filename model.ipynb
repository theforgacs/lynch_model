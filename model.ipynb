{
 "cells": [
  {
   "cell_type": "code",
   "execution_count": 108,
   "metadata": {
    "scrolled": true
   },
   "outputs": [],
   "source": [
    "import pandas as pd\n",
    "import requests\n",
    "import json"
   ]
  },
  {
   "cell_type": "markdown",
   "metadata": {},
   "source": [
    "list of stocks for each exchange can be obtained using"
   ]
  },
  {
   "cell_type": "code",
   "execution_count": null,
   "metadata": {},
   "outputs": [],
   "source": [
    "data, _ = pd.read_html(\n",
    "    'https://en.wikipedia.org/wiki/List_of_S%26P_500_companies')\n",
    "df = data[0]"
   ]
  },
  {
   "cell_type": "code",
   "execution_count": 10,
   "metadata": {},
   "outputs": [
    {
     "data": {
      "text/plain": [
       "0       MMM\n",
       "1       ABT\n",
       "2      ABBV\n",
       "3      ABMD\n",
       "4       ACN\n",
       "       ... \n",
       "500     YUM\n",
       "501    ZBRA\n",
       "502     ZBH\n",
       "503    ZION\n",
       "504     ZTS\n",
       "Name: Symbol, Length: 505, dtype: object"
      ]
     },
     "execution_count": 10,
     "metadata": {},
     "output_type": "execute_result"
    }
   ],
   "source": [
    "df['Symbol']"
   ]
  },
  {
   "cell_type": "code",
   "execution_count": 2,
   "metadata": {},
   "outputs": [],
   "source": [
    "df.to_csv('S&P500-symbols.csv', columns=['Symbol'])"
   ]
  },
  {
   "cell_type": "markdown",
   "metadata": {},
   "source": [
    "### list of all stock they have at \n",
    "\n",
    "- _financialmodelingprep.com_ "
   ]
  },
  {
   "cell_type": "code",
   "execution_count": 110,
   "metadata": {},
   "outputs": [],
   "source": [
    "params = {'apikey': '5c441504040297013249ee348e014f85'}\n",
    "url = 'https://financialmodelingprep.com/api/v3/stock/list'\n",
    "\n",
    "r = requests.get(url, params)"
   ]
  },
  {
   "cell_type": "code",
   "execution_count": 111,
   "metadata": {},
   "outputs": [],
   "source": [
    "df = pd.DataFrame(r.json())"
   ]
  },
  {
   "cell_type": "code",
   "execution_count": 112,
   "metadata": {},
   "outputs": [
    {
     "data": {
      "text/plain": [
       "14369"
      ]
     },
     "execution_count": 112,
     "metadata": {},
     "output_type": "execute_result"
    }
   ],
   "source": [
    "len(df)"
   ]
  },
  {
   "cell_type": "code",
   "execution_count": 113,
   "metadata": {
    "scrolled": true
   },
   "outputs": [
    {
     "data": {
      "text/plain": [
       "{'Amsterdam',\n",
       " 'BATS',\n",
       " 'BATS Exchange',\n",
       " 'Brussels',\n",
       " 'Lisbon',\n",
       " 'MCX',\n",
       " 'NASDAQ Capital Market',\n",
       " 'NASDAQ Global Market',\n",
       " 'NYSE',\n",
       " 'NYSE American',\n",
       " 'NYSE Arca',\n",
       " 'NYSEArca',\n",
       " 'Nasdaq',\n",
       " 'Nasdaq Global Select',\n",
       " 'NasdaqCM',\n",
       " 'NasdaqGM',\n",
       " 'NasdaqGS',\n",
       " 'New York Stock Exchange',\n",
       " 'Other OTC',\n",
       " 'Paris',\n",
       " 'Swiss',\n",
       " 'Toronto',\n",
       " 'YHD',\n",
       " nan}"
      ]
     },
     "execution_count": 113,
     "metadata": {},
     "output_type": "execute_result"
    }
   ],
   "source": [
    "set(df['exchange'].tolist())"
   ]
  },
  {
   "cell_type": "code",
   "execution_count": 114,
   "metadata": {
    "scrolled": true
   },
   "outputs": [
    {
     "data": {
      "text/html": [
       "<div>\n",
       "<style scoped>\n",
       "    .dataframe tbody tr th:only-of-type {\n",
       "        vertical-align: middle;\n",
       "    }\n",
       "\n",
       "    .dataframe tbody tr th {\n",
       "        vertical-align: top;\n",
       "    }\n",
       "\n",
       "    .dataframe thead th {\n",
       "        text-align: right;\n",
       "    }\n",
       "</style>\n",
       "<table border=\"1\" class=\"dataframe\">\n",
       "  <thead>\n",
       "    <tr style=\"text-align: right;\">\n",
       "      <th></th>\n",
       "      <th>symbol</th>\n",
       "      <th>name</th>\n",
       "      <th>price</th>\n",
       "      <th>exchange</th>\n",
       "    </tr>\n",
       "  </thead>\n",
       "  <tbody>\n",
       "    <tr>\n",
       "      <th>2</th>\n",
       "      <td>KMI</td>\n",
       "      <td>Kinder Morgan Inc.</td>\n",
       "      <td>14.53</td>\n",
       "      <td>New York Stock Exchange</td>\n",
       "    </tr>\n",
       "    <tr>\n",
       "      <th>6</th>\n",
       "      <td>GE</td>\n",
       "      <td>General Electric Company</td>\n",
       "      <td>6.59</td>\n",
       "      <td>New York Stock Exchange</td>\n",
       "    </tr>\n",
       "    <tr>\n",
       "      <th>7</th>\n",
       "      <td>BAC</td>\n",
       "      <td>Bank of America Corporation</td>\n",
       "      <td>25.27</td>\n",
       "      <td>New York Stock Exchange</td>\n",
       "    </tr>\n",
       "    <tr>\n",
       "      <th>13</th>\n",
       "      <td>HPQ</td>\n",
       "      <td>HP Inc.</td>\n",
       "      <td>17.08</td>\n",
       "      <td>New York Stock Exchange</td>\n",
       "    </tr>\n",
       "    <tr>\n",
       "      <th>14</th>\n",
       "      <td>CX</td>\n",
       "      <td>Cemex S.A.B. de C.V. Sponsored ADR</td>\n",
       "      <td>3.16</td>\n",
       "      <td>New York Stock Exchange</td>\n",
       "    </tr>\n",
       "    <tr>\n",
       "      <th>18</th>\n",
       "      <td>F</td>\n",
       "      <td>Ford Motor Company</td>\n",
       "      <td>6.92</td>\n",
       "      <td>New York Stock Exchange</td>\n",
       "    </tr>\n",
       "    <tr>\n",
       "      <th>20</th>\n",
       "      <td>SNAP</td>\n",
       "      <td>Snap Inc. Class A</td>\n",
       "      <td>22.90</td>\n",
       "      <td>New York Stock Exchange</td>\n",
       "    </tr>\n",
       "    <tr>\n",
       "      <th>22</th>\n",
       "      <td>WFC</td>\n",
       "      <td>Wells Fargo &amp; Company</td>\n",
       "      <td>25.78</td>\n",
       "      <td>New York Stock Exchange</td>\n",
       "    </tr>\n",
       "    <tr>\n",
       "      <th>23</th>\n",
       "      <td>AIG</td>\n",
       "      <td>American International Group Inc.</td>\n",
       "      <td>32.67</td>\n",
       "      <td>New York Stock Exchange</td>\n",
       "    </tr>\n",
       "    <tr>\n",
       "      <th>24</th>\n",
       "      <td>T</td>\n",
       "      <td>AT&amp;T Inc.</td>\n",
       "      <td>29.56</td>\n",
       "      <td>New York Stock Exchange</td>\n",
       "    </tr>\n",
       "  </tbody>\n",
       "</table>\n",
       "</div>"
      ],
      "text/plain": [
       "   symbol                                name  price                 exchange\n",
       "2     KMI                  Kinder Morgan Inc.  14.53  New York Stock Exchange\n",
       "6      GE            General Electric Company   6.59  New York Stock Exchange\n",
       "7     BAC         Bank of America Corporation  25.27  New York Stock Exchange\n",
       "13    HPQ                             HP Inc.  17.08  New York Stock Exchange\n",
       "14     CX  Cemex S.A.B. de C.V. Sponsored ADR   3.16  New York Stock Exchange\n",
       "18      F                  Ford Motor Company   6.92  New York Stock Exchange\n",
       "20   SNAP                   Snap Inc. Class A  22.90  New York Stock Exchange\n",
       "22    WFC               Wells Fargo & Company  25.78  New York Stock Exchange\n",
       "23    AIG   American International Group Inc.  32.67  New York Stock Exchange\n",
       "24      T                           AT&T Inc.  29.56  New York Stock Exchange"
      ]
     },
     "execution_count": 114,
     "metadata": {},
     "output_type": "execute_result"
    }
   ],
   "source": [
    "df[df['exchange'] == 'New York Stock Exchange'].head(10)"
   ]
  },
  {
   "cell_type": "markdown",
   "metadata": {},
   "source": [
    "- _iexcloud.io_ "
   ]
  },
  {
   "cell_type": "code",
   "execution_count": 115,
   "metadata": {},
   "outputs": [],
   "source": [
    "import pyEX"
   ]
  },
  {
   "cell_type": "code",
   "execution_count": 116,
   "metadata": {},
   "outputs": [],
   "source": [
    "token = 'pk_e2451d3644e5441ca64f00de53a4c00a'\n",
    "secret = ':)'"
   ]
  },
  {
   "cell_type": "code",
   "execution_count": 117,
   "metadata": {},
   "outputs": [],
   "source": [
    "c = pyEX.Client(api_token=token)"
   ]
  },
  {
   "cell_type": "code",
   "execution_count": 121,
   "metadata": {},
   "outputs": [
    {
     "data": {
      "text/html": [
       "<div>\n",
       "<style scoped>\n",
       "    .dataframe tbody tr th:only-of-type {\n",
       "        vertical-align: middle;\n",
       "    }\n",
       "\n",
       "    .dataframe tbody tr th {\n",
       "        vertical-align: top;\n",
       "    }\n",
       "\n",
       "    .dataframe thead th {\n",
       "        text-align: right;\n",
       "    }\n",
       "</style>\n",
       "<table border=\"1\" class=\"dataframe\">\n",
       "  <thead>\n",
       "    <tr style=\"text-align: right;\">\n",
       "      <th></th>\n",
       "      <th>symbol</th>\n",
       "      <th>exchange</th>\n",
       "      <th>name</th>\n",
       "      <th>date</th>\n",
       "      <th>type</th>\n",
       "      <th>iexId</th>\n",
       "      <th>region</th>\n",
       "      <th>currency</th>\n",
       "      <th>isEnabled</th>\n",
       "      <th>figi</th>\n",
       "      <th>cik</th>\n",
       "    </tr>\n",
       "  </thead>\n",
       "  <tbody>\n",
       "    <tr>\n",
       "      <th>0</th>\n",
       "      <td>A</td>\n",
       "      <td>NYS</td>\n",
       "      <td>Agilent Technologies Inc.</td>\n",
       "      <td>2020-07-30</td>\n",
       "      <td>cs</td>\n",
       "      <td>IEX_46574843354B2D52</td>\n",
       "      <td>US</td>\n",
       "      <td>USD</td>\n",
       "      <td>True</td>\n",
       "      <td>BBG000C2V3D6</td>\n",
       "      <td>1090872</td>\n",
       "    </tr>\n",
       "    <tr>\n",
       "      <th>1</th>\n",
       "      <td>AA</td>\n",
       "      <td>NYS</td>\n",
       "      <td>Alcoa Corp.</td>\n",
       "      <td>2020-07-30</td>\n",
       "      <td>cs</td>\n",
       "      <td>IEX_4238333734532D52</td>\n",
       "      <td>US</td>\n",
       "      <td>USD</td>\n",
       "      <td>True</td>\n",
       "      <td>BBG00B3T3HD3</td>\n",
       "      <td>1675149</td>\n",
       "    </tr>\n",
       "    <tr>\n",
       "      <th>2</th>\n",
       "      <td>AAAU</td>\n",
       "      <td>PSE</td>\n",
       "      <td>Perth Mint Physical Gold ETF</td>\n",
       "      <td>2020-07-30</td>\n",
       "      <td>et</td>\n",
       "      <td>IEX_474B433136332D52</td>\n",
       "      <td>US</td>\n",
       "      <td>USD</td>\n",
       "      <td>True</td>\n",
       "      <td>BBG00LPXX872</td>\n",
       "      <td>None</td>\n",
       "    </tr>\n",
       "    <tr>\n",
       "      <th>3</th>\n",
       "      <td>AACG</td>\n",
       "      <td>NAS</td>\n",
       "      <td>ATA Creativity Global Sponsored ADR</td>\n",
       "      <td>2020-07-30</td>\n",
       "      <td>ad</td>\n",
       "      <td>IEX_44595A4C53392D52</td>\n",
       "      <td>US</td>\n",
       "      <td>USD</td>\n",
       "      <td>True</td>\n",
       "      <td>BBG000V2S3P6</td>\n",
       "      <td>None</td>\n",
       "    </tr>\n",
       "    <tr>\n",
       "      <th>4</th>\n",
       "      <td>AACQU</td>\n",
       "      <td>NAS</td>\n",
       "      <td>Artius Acquisition Inc. Units Cons of 1 Shs A ...</td>\n",
       "      <td>2020-07-30</td>\n",
       "      <td>ut</td>\n",
       "      <td>IEX_474656574E422D52</td>\n",
       "      <td>US</td>\n",
       "      <td>USD</td>\n",
       "      <td>True</td>\n",
       "      <td>BBG00VQPPKH7</td>\n",
       "      <td>None</td>\n",
       "    </tr>\n",
       "  </tbody>\n",
       "</table>\n",
       "</div>"
      ],
      "text/plain": [
       "  symbol exchange                                               name  \\\n",
       "0      A      NYS                          Agilent Technologies Inc.   \n",
       "1     AA      NYS                                        Alcoa Corp.   \n",
       "2   AAAU      PSE                       Perth Mint Physical Gold ETF   \n",
       "3   AACG      NAS                ATA Creativity Global Sponsored ADR   \n",
       "4  AACQU      NAS  Artius Acquisition Inc. Units Cons of 1 Shs A ...   \n",
       "\n",
       "         date type                 iexId region currency  isEnabled  \\\n",
       "0  2020-07-30   cs  IEX_46574843354B2D52     US      USD       True   \n",
       "1  2020-07-30   cs  IEX_4238333734532D52     US      USD       True   \n",
       "2  2020-07-30   et  IEX_474B433136332D52     US      USD       True   \n",
       "3  2020-07-30   ad  IEX_44595A4C53392D52     US      USD       True   \n",
       "4  2020-07-30   ut  IEX_474656574E422D52     US      USD       True   \n",
       "\n",
       "           figi      cik  \n",
       "0  BBG000C2V3D6  1090872  \n",
       "1  BBG00B3T3HD3  1675149  \n",
       "2  BBG00LPXX872     None  \n",
       "3  BBG000V2S3P6     None  \n",
       "4  BBG00VQPPKH7     None  "
      ]
     },
     "execution_count": 121,
     "metadata": {},
     "output_type": "execute_result"
    }
   ],
   "source": [
    "df = pd.DataFrame(c.symbols())\n",
    "df.head(5)"
   ]
  },
  {
   "cell_type": "markdown",
   "metadata": {},
   "source": [
    "only 5 exchanges for _iexcloud.io_"
   ]
  },
  {
   "cell_type": "code",
   "execution_count": 119,
   "metadata": {
    "scrolled": false
   },
   "outputs": [
    {
     "data": {
      "text/plain": [
       "{'ASE', 'BATS', 'NAS', 'NYS', 'PSE'}"
      ]
     },
     "execution_count": 119,
     "metadata": {},
     "output_type": "execute_result"
    }
   ],
   "source": [
    "set(df['exchange'].tolist())"
   ]
  },
  {
   "cell_type": "code",
   "execution_count": 120,
   "metadata": {
    "scrolled": true
   },
   "outputs": [
    {
     "data": {
      "text/plain": [
       "8925"
      ]
     },
     "execution_count": 120,
     "metadata": {},
     "output_type": "execute_result"
    }
   ],
   "source": [
    "len(set(df['symbol'].tolist()))"
   ]
  },
  {
   "cell_type": "markdown",
   "metadata": {},
   "source": [
    "- thomson reuters eikon\n"
   ]
  },
  {
   "cell_type": "code",
   "execution_count": 107,
   "metadata": {},
   "outputs": [],
   "source": [
    "pass"
   ]
  }
 ],
 "metadata": {
  "kernelspec": {
   "display_name": "Python 3",
   "language": "python",
   "name": "python3"
  },
  "language_info": {
   "codemirror_mode": {
    "name": "ipython",
    "version": 3
   },
   "file_extension": ".py",
   "mimetype": "text/x-python",
   "name": "python",
   "nbconvert_exporter": "python",
   "pygments_lexer": "ipython3",
   "version": "3.8.2"
  }
 },
 "nbformat": 4,
 "nbformat_minor": 4
}
