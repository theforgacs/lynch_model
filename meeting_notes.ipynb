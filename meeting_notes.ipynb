{
 "cells": [
  {
   "cell_type": "markdown",
   "metadata": {},
   "source": [
    "### Equities model for the fund\n",
    "\n",
    "1) get the last price and earnings for all equities from DJI, SP500, FTSE250, DAX100, FTSE MIB; (later ASX200, NZ50, WIG20)\n",
    "    \n",
    "2) on a given day run for all symbols in index and filters out equities in the past $n$ months, looking which satisfies the 'undervalued' condition: \n",
    "\n",
    "\\begin{array}{rcr} P / E & = & K \\\\ last - P & < & 0  \\end{array}\n",
    "\n",
    "where for each symbol: \n",
    "\n",
    "* $P$ is price for which $P/E$ equals $K$\n",
    "* $E$ is earnings \n",
    "* $K$ is $P/E$ value threshold, (e.g. 15, 35) dependant on stock category\n",
    "* $last$ is the last close price of a symbol\n",
    "\n",
    "\n",
    "3) sort by which are the most 'undervalued' \n",
    "\n",
    "4) plot stuff\n",
    "___\n",
    "#### coming later:\n",
    "\n",
    "\n",
    "* classify stocks into 7 categories\n",
    "* backtesting\n",
    "    * take profit on when price converges with the p/e line\n",
    "    * stop loss 1/1?\n",
    "* read book \"One up on wallstreet\"\n",
    "* add louie on whatsapp"
   ]
  }
 ],
 "metadata": {
  "kernelspec": {
   "display_name": "Python 3",
   "language": "python",
   "name": "python3"
  },
  "language_info": {
   "codemirror_mode": {
    "name": "ipython",
    "version": 3
   },
   "file_extension": ".py",
   "mimetype": "text/x-python",
   "name": "python",
   "nbconvert_exporter": "python",
   "pygments_lexer": "ipython3",
   "version": "3.7.6"
  }
 },
 "nbformat": 4,
 "nbformat_minor": 4
}
